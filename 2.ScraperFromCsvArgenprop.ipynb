{
 "cells": [
  {
   "cell_type": "code",
   "execution_count": 1,
   "id": "25de9745",
   "metadata": {},
   "outputs": [],
   "source": [
    "import pandas as pd\n",
    "import numpy as np\n",
    "import os"
   ]
  },
  {
   "cell_type": "code",
   "execution_count": 2,
   "id": "6df93e55",
   "metadata": {},
   "outputs": [],
   "source": [
    "from pathlib import Path \n",
    "import chardet "
   ]
  },
  {
   "cell_type": "code",
   "execution_count": 3,
   "id": "670e3be8",
   "metadata": {},
   "outputs": [
    {
     "data": {
      "text/plain": [
       "WindowsPath('C:/Users/Diego_Castells/Desktop/ETL/ArgenProp')"
      ]
     },
     "execution_count": 3,
     "metadata": {},
     "output_type": "execute_result"
    }
   ],
   "source": [
    "root_dir = Path(\".\").resolve().parent\n",
    "root_dir"
   ]
  },
  {
   "cell_type": "code",
   "execution_count": 4,
   "id": "a8017fbe",
   "metadata": {},
   "outputs": [],
   "source": [
    "files_path=os.path.join(root_dir,\"etl\",\"data\",\"Argenprop_links.csv\")"
   ]
  },
  {
   "cell_type": "code",
   "execution_count": 5,
   "id": "763e3ef8",
   "metadata": {},
   "outputs": [],
   "source": [
    "data=pd.read_csv(files_path,encoding='utf-8') "
   ]
  },
  {
   "cell_type": "code",
   "execution_count": 6,
   "id": "630847bf",
   "metadata": {
    "scrolled": true
   },
   "outputs": [
    {
     "data": {
      "text/html": [
       "<div>\n",
       "<style scoped>\n",
       "    .dataframe tbody tr th:only-of-type {\n",
       "        vertical-align: middle;\n",
       "    }\n",
       "\n",
       "    .dataframe tbody tr th {\n",
       "        vertical-align: top;\n",
       "    }\n",
       "\n",
       "    .dataframe thead th {\n",
       "        text-align: right;\n",
       "    }\n",
       "</style>\n",
       "<table border=\"1\" class=\"dataframe\">\n",
       "  <thead>\n",
       "    <tr style=\"text-align: right;\">\n",
       "      <th></th>\n",
       "      <th>link</th>\n",
       "    </tr>\n",
       "  </thead>\n",
       "  <tbody>\n",
       "    <tr>\n",
       "      <th>0</th>\n",
       "      <td>https://www.argenprop.com/inmuebles-venta-barr...</td>\n",
       "    </tr>\n",
       "    <tr>\n",
       "      <th>1</th>\n",
       "      <td>https://www.argenprop.com/inmuebles-venta-barr...</td>\n",
       "    </tr>\n",
       "    <tr>\n",
       "      <th>2</th>\n",
       "      <td>https://www.argenprop.com/inmuebles-venta-barr...</td>\n",
       "    </tr>\n",
       "    <tr>\n",
       "      <th>3</th>\n",
       "      <td>https://www.argenprop.com/inmuebles-venta-barr...</td>\n",
       "    </tr>\n",
       "    <tr>\n",
       "      <th>4</th>\n",
       "      <td>https://www.argenprop.com/inmuebles-venta-barr...</td>\n",
       "    </tr>\n",
       "    <tr>\n",
       "      <th>...</th>\n",
       "      <td>...</td>\n",
       "    </tr>\n",
       "    <tr>\n",
       "      <th>95</th>\n",
       "      <td>https://www.argenprop.com/inmuebles-venta-barr...</td>\n",
       "    </tr>\n",
       "    <tr>\n",
       "      <th>96</th>\n",
       "      <td>https://www.argenprop.com/inmuebles-venta-barr...</td>\n",
       "    </tr>\n",
       "    <tr>\n",
       "      <th>97</th>\n",
       "      <td>https://www.argenprop.com/inmuebles-venta-barr...</td>\n",
       "    </tr>\n",
       "    <tr>\n",
       "      <th>98</th>\n",
       "      <td>https://www.argenprop.com/inmuebles-venta-barr...</td>\n",
       "    </tr>\n",
       "    <tr>\n",
       "      <th>99</th>\n",
       "      <td>https://www.argenprop.com/inmuebles-venta-barr...</td>\n",
       "    </tr>\n",
       "  </tbody>\n",
       "</table>\n",
       "<p>100 rows × 1 columns</p>\n",
       "</div>"
      ],
      "text/plain": [
       "                                                 link\n",
       "0   https://www.argenprop.com/inmuebles-venta-barr...\n",
       "1   https://www.argenprop.com/inmuebles-venta-barr...\n",
       "2   https://www.argenprop.com/inmuebles-venta-barr...\n",
       "3   https://www.argenprop.com/inmuebles-venta-barr...\n",
       "4   https://www.argenprop.com/inmuebles-venta-barr...\n",
       "..                                                ...\n",
       "95  https://www.argenprop.com/inmuebles-venta-barr...\n",
       "96  https://www.argenprop.com/inmuebles-venta-barr...\n",
       "97  https://www.argenprop.com/inmuebles-venta-barr...\n",
       "98  https://www.argenprop.com/inmuebles-venta-barr...\n",
       "99  https://www.argenprop.com/inmuebles-venta-barr...\n",
       "\n",
       "[100 rows x 1 columns]"
      ]
     },
     "execution_count": 6,
     "metadata": {},
     "output_type": "execute_result"
    }
   ],
   "source": [
    "data"
   ]
  },
  {
   "cell_type": "code",
   "execution_count": 7,
   "id": "be289be5",
   "metadata": {},
   "outputs": [],
   "source": [
    "links=list(data['link'])"
   ]
  },
  {
   "cell_type": "code",
   "execution_count": 8,
   "id": "9b5302e6",
   "metadata": {},
   "outputs": [],
   "source": [
    "url_base='https://www.argenprop.com'"
   ]
  },
  {
   "cell_type": "code",
   "execution_count": 9,
   "id": "54c5f63e",
   "metadata": {},
   "outputs": [],
   "source": [
    "import re\n",
    "import requests\n",
    "from bs4 import BeautifulSoup as bs"
   ]
  },
  {
   "cell_type": "code",
   "execution_count": 10,
   "id": "674c87af",
   "metadata": {},
   "outputs": [],
   "source": [
    "def cleanData(price,expenses,direcction,coveredArea,bedrooms,antiquity,toilets,environments,garages,condition,provision):\n",
    "    #price,expenses,direcction,coveredArea,bedrooms\n",
    "    #antiquity,toilets,environments,garages,condition,provision\n",
    "    currencyPurchase=price.split()[0]\n",
    "    pricePurchase=price.split()[1]\n",
    "    expensesCurrency=expenses.split()[1][0:1]\n",
    "    expensesPrice=expenses.split()[1][1:]\n",
    "    coveredArea=coveredArea.split()[0]\n",
    "    bedrooms=bedrooms.split()[0]\n",
    "    antiquity=antiquity.split()[0]\n",
    "    toilets=toilets.split()[0]\n",
    "    environments=environments.split()[0]\n",
    "    garages=garages.split()[0]\n",
    "    return ( currencyPurchase,pricePurchase,expensesCurrency,expensesPrice,direcction,coveredArea,bedrooms,antiquity,toilets,environments,garages,condition,provision )"
   ]
  },
  {
   "cell_type": "code",
   "execution_count": 11,
   "id": "8600ef44",
   "metadata": {},
   "outputs": [],
   "source": [
    "name_csv = 'betaArgenProp'"
   ]
  },
  {
   "cell_type": "code",
   "execution_count": 12,
   "id": "13ec526d",
   "metadata": {},
   "outputs": [],
   "source": [
    "aparthments=[]\n",
    "\n",
    "for link in links:\n",
    "    response = requests.get(link)\n",
    "    soup=bs(response.content,'html.parser')\n",
    "    post=soup.find_all('a',attrs={'card'})\n",
    "    aparthment=[ url_base + n.get('href') for n in post ] \n",
    "    aparthments.extend(list(aparthment))"
   ]
  },
  {
   "cell_type": "code",
   "execution_count": 13,
   "id": "46657f99",
   "metadata": {},
   "outputs": [],
   "source": [
    "#len(aparthments)\n",
    "#aparthments"
   ]
  },
  {
   "cell_type": "code",
   "execution_count": null,
   "id": "14936938",
   "metadata": {},
   "outputs": [
    {
     "name": "stdout",
     "output_type": "stream",
     "text": [
      "error post\n",
      "error post\n",
      "error post\n",
      "error post\n",
      "error post\n",
      "error post\n",
      "error post\n",
      "error post\n",
      "error post\n",
      "error post\n",
      "error post\n",
      "error post\n",
      "error post\n",
      "error post\n",
      "error post\n",
      "error post\n",
      "error post\n",
      "error post\n",
      "error post\n",
      "error post\n",
      "error post\n",
      "error post\n",
      "error post\n",
      "error post\n",
      "error post\n",
      "error post\n",
      "error post\n",
      "error post\n",
      "error post\n",
      "error post\n",
      "error post\n",
      "error post\n",
      "error post\n",
      "error post\n",
      "error post\n",
      "error post\n",
      "error post\n",
      "error post\n",
      "error post\n",
      "error post\n",
      "error post\n",
      "error post\n",
      "error post\n",
      "error post\n",
      "error post\n",
      "error post\n",
      "error post\n",
      "error post\n",
      "error post\n",
      "error post\n",
      "error post\n",
      "error post\n",
      "error post\n",
      "error post\n",
      "error post\n",
      "error post\n",
      "error post\n",
      "error post\n",
      "error post\n",
      "error post\n",
      "error post\n",
      "error post\n",
      "error post\n",
      "error post\n",
      "error post\n",
      "error post\n",
      "error post\n",
      "error post\n",
      "error post\n",
      "error post\n",
      "error post\n",
      "error post\n",
      "error post\n",
      "error post\n",
      "error post\n",
      "error post\n",
      "error post\n",
      "error post\n",
      "error post\n",
      "error post\n",
      "error post\n",
      "error post\n",
      "error post\n",
      "error post\n",
      "error post\n",
      "error post\n",
      "error post\n",
      "error post\n",
      "error post\n",
      "error post\n",
      "error post\n",
      "error post\n",
      "error post\n",
      "error post\n",
      "error post\n",
      "error post\n",
      "error post\n",
      "error post\n",
      "error post\n",
      "error post\n",
      "error post\n",
      "error post\n",
      "error post\n",
      "error post\n",
      "error post\n",
      "error post\n",
      "error post\n",
      "error post\n",
      "error post\n",
      "error post\n",
      "error post\n",
      "error post\n",
      "error post\n",
      "error post\n",
      "error post\n",
      "error post\n",
      "error post\n",
      "error post\n",
      "error post\n",
      "error post\n",
      "error post\n",
      "error post\n",
      "error post\n"
     ]
    }
   ],
   "source": [
    "listaAparthment=[]\n",
    "tot=0\n",
    "error=0\n",
    "for aparthment in aparthments:\n",
    "    response = requests.get(aparthment)\n",
    "    Aparthment=bs(response.content,'html.parser')\n",
    "    listCaract = Aparthment.find('ul',attrs={'property-main-features'})\n",
    "\n",
    "    tot=tot+1\n",
    "    try:\n",
    "        price=Aparthment.find('p',attrs={'titlebar__price'}).get_text()\n",
    "        try:\n",
    "            expenses=Aparthment.find('p',attrs={'titlebar__expenses hide-in-mobile'}).get_text()\n",
    "        except:\n",
    "            expenses='    + $32.000 expensas   '\n",
    "        direcction=Aparthment.find('h3',attrs={'titlebar__address'}).get_text()\n",
    "        try:\n",
    "            coveredArea =listCaract.find('li',attrs={'title':'Sup. cubierta'}).find('p',attrs={'strong'}).get_text()\n",
    "        except:\n",
    "            coveredArea='0 m² Cubierta'\n",
    "        bedrooms =listCaract.find('li',attrs={'title':'Dormitorios'}).find('p',attrs={'strong'}).get_text()\n",
    "        try:\n",
    "            antiquity =listCaract.find('li',attrs={'title':'Antigüedad'}).find('p',attrs={'strong'}).get_text()\n",
    "        except:\n",
    "            antiquity = '10000 años'\n",
    "        toilets =listCaract.find('li',attrs={'title':'Baños'}).find('p',attrs={'strong'}).get_text()\n",
    "        environments =listCaract.find('li',attrs={'title':'Ambientes'}).find('p',attrs={'strong'}).get_text()\n",
    "        try:\n",
    "            garages =listCaract.find('li',attrs={'title':'Cocheras'}).find('p',attrs={'strong'}).get_text()\n",
    "        except:\n",
    "            garages = '0 cochera'\n",
    "        try:\n",
    "            condition =listCaract.find('li',attrs={'title':'Estado'}).find('p',attrs={'strong'}).get_text()\n",
    "        except:\n",
    "            condition=' '\n",
    "        try:\n",
    "            provision =listCaract.find('li',attrs={'title':'Disposición'}).find('p',attrs={'strong'}).get_text()\n",
    "        except:\n",
    "            provision=''\n",
    "\n",
    "        listaAparthment.append( cleanData(price,expenses,direcction,coveredArea,bedrooms,antiquity,toilets,environments,garages,condition,provision) )\n",
    "    except:\n",
    "        print('error post')\n",
    "        error=error+1\n",
    "print('los casos exitos fueron: {}'.format( (tot-error) ) )\n",
    "print('los casos fallidos fueron: {}' .format((error) )  )\n"
   ]
  },
  {
   "cell_type": "code",
   "execution_count": null,
   "id": "91b337d1",
   "metadata": {},
   "outputs": [],
   "source": [
    "listaAparthment"
   ]
  },
  {
   "cell_type": "code",
   "execution_count": null,
   "id": "7d447613",
   "metadata": {},
   "outputs": [],
   "source": [
    "print('el porcentaje de casos exitosos fue de: {}' .format(((tot-error)/tot )  ))\n"
   ]
  },
  {
   "cell_type": "code",
   "execution_count": null,
   "id": "3dcf6551",
   "metadata": {},
   "outputs": [],
   "source": [
    "col_ap = ['currencyPurchase','pricePurchase','expensesCurrency','expensesPrice','direcction','coveredArea','bedrooms','antiquity','toilets','environments','garages','condition','provision']\n",
    "df = pd.DataFrame( data = listaAparthment, columns = col_ap )"
   ]
  },
  {
   "cell_type": "code",
   "execution_count": null,
   "id": "706c1a5f",
   "metadata": {},
   "outputs": [],
   "source": [
    "files_path=os.path.join(root_dir,\"etl\",\"data\",\"betaAparthments.csv\")\n",
    "files_path\n",
    "df.to_csv(files_path, index=None, header=True)"
   ]
  },
  {
   "cell_type": "code",
   "execution_count": null,
   "id": "02bc8589",
   "metadata": {},
   "outputs": [],
   "source": []
  },
  {
   "cell_type": "code",
   "execution_count": null,
   "id": "856c9227",
   "metadata": {},
   "outputs": [],
   "source": []
  }
 ],
 "metadata": {
  "kernelspec": {
   "display_name": "Python 3 (ipykernel)",
   "language": "python",
   "name": "python3"
  },
  "language_info": {
   "codemirror_mode": {
    "name": "ipython",
    "version": 3
   },
   "file_extension": ".py",
   "mimetype": "text/x-python",
   "name": "python",
   "nbconvert_exporter": "python",
   "pygments_lexer": "ipython3",
   "version": "3.9.13"
  }
 },
 "nbformat": 4,
 "nbformat_minor": 5
}
